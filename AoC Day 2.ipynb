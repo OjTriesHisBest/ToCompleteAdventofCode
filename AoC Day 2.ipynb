{
 "cells": [
  {
   "cell_type": "code",
   "execution_count": null,
   "metadata": {},
   "outputs": [],
   "source": [
    "from pathlib import Path\n",
    "import os"
   ]
  },
  {
   "cell_type": "code",
   "execution_count": null,
   "metadata": {},
   "outputs": [],
   "source": [
    "os.getcwd()"
   ]
  },
  {
   "cell_type": "code",
   "execution_count": null,
   "metadata": {},
   "outputs": [],
   "source": [
    "day2 = \"advent of code day 2.txt\"\n",
    "horizontal = 0\n",
    "vertical = 0\n",
    "path = Path(day2)"
   ]
  },
  {
   "cell_type": "code",
   "execution_count": null,
   "metadata": {},
   "outputs": [],
   "source": [
    "# Function that reads lines on a rolling basis and updates the counters. \n",
    "\n",
    "def day2(path): \n",
    "    \n",
    "    horizontal = 0\n",
    "    vertical = 0\n",
    "    \n",
    "    # Reads the lines into lists\n",
    "    with open(path, \"r\") as f: \n",
    "        for line in f: \n",
    "            line = line.split()\n",
    "            line[1] = int(line[1])\n",
    "            if line[0] == \"down\":\n",
    "                 vertical = vertical + line[1]\n",
    "            elif line[0] == \"up\":\n",
    "                vertical = vertical - line[1]\n",
    "            else: \n",
    "                horizontal = horizontal + line[1]\n",
    "\n",
    "    return horizontal * vertical\n",
    "                "
   ]
  },
  {
   "cell_type": "code",
   "execution_count": null,
   "metadata": {},
   "outputs": [],
   "source": [
    "day2(path)"
   ]
  },
  {
   "cell_type": "code",
   "execution_count": null,
   "metadata": {},
   "outputs": [],
   "source": [
    "def day2pt2(path): \n",
    "    \n",
    "    horizontal = 0\n",
    "    vertical = 0\n",
    "    aim = 0\n",
    "    depth = 0\n",
    "    \n",
    "    # Reads the lines into lists\n",
    "    with open(path, \"r\") as f: \n",
    "        for line in f: \n",
    "            line = line.split()\n",
    "            line[1] = int(line[1])\n",
    "            \n",
    "            if line[0] == \"down\":\n",
    "                aim = aim + line[1]\n",
    "            elif line[0] == \"up\":\n",
    "                aim = aim - line[1]\n",
    "            elif line[0] == \"forward\":\n",
    "                horizontal = horizontal + line[1]\n",
    "                depth += (line[1] * aim)\n",
    "\n",
    "    return horizontal * depth"
   ]
  },
  {
   "cell_type": "code",
   "execution_count": null,
   "metadata": {},
   "outputs": [],
   "source": [
    "day2pt2(path)"
   ]
  },
  {
   "cell_type": "code",
   "execution_count": null,
   "metadata": {},
   "outputs": [],
   "source": []
  }
 ],
 "metadata": {
  "kernelspec": {
   "display_name": "Python 3",
   "language": "python",
   "name": "python3"
  },
  "language_info": {
   "codemirror_mode": {
    "name": "ipython",
    "version": 3
   },
   "file_extension": ".py",
   "mimetype": "text/x-python",
   "name": "python",
   "nbconvert_exporter": "python",
   "pygments_lexer": "ipython3",
   "version": "3.7.3"
  }
 },
 "nbformat": 4,
 "nbformat_minor": 4
}
