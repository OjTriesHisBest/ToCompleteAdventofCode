{
 "cells": [
  {
   "cell_type": "code",
   "execution_count": 17,
   "metadata": {},
   "outputs": [],
   "source": [
    "import os\n",
    "import pandas as pd\n",
    "from pathlib import Path"
   ]
  },
  {
   "cell_type": "code",
   "execution_count": 2,
   "metadata": {},
   "outputs": [
    {
     "data": {
      "text/plain": [
       "'N:\\\\'"
      ]
     },
     "execution_count": 2,
     "metadata": {},
     "output_type": "execute_result"
    }
   ],
   "source": [
    "os.getcwd()"
   ]
  },
  {
   "cell_type": "code",
   "execution_count": 18,
   "metadata": {},
   "outputs": [],
   "source": [
    "text_file = \"N:\\\\advent of code day 1.txt\"\n",
    "\n",
    "# read it into a list\n",
    "path = Path(text_file)"
   ]
  },
  {
   "cell_type": "code",
   "execution_count": 25,
   "metadata": {},
   "outputs": [],
   "source": [
    "# create a function that reads each line and checks if it's larger than the last \n",
    "\n",
    "def bigger_than_last(path: Path): \n",
    "    counter = 0\n",
    "    with open(path, \"r\") as f:\n",
    "        current_line = int(f.readline())\n",
    "        for line in f:\n",
    "            value = int(line)\n",
    "            if value > current_line: \n",
    "                counter += 1 \n",
    "            \n",
    "            current_line = value\n",
    "            \n",
    "    return counter"
   ]
  },
  {
   "cell_type": "code",
   "execution_count": 24,
   "metadata": {},
   "outputs": [
    {
     "name": "stdout",
     "output_type": "stream",
     "text": [
      "1548\n"
     ]
    }
   ],
   "source": [
    "print(bigger_than_last(path))"
   ]
  },
  {
   "cell_type": "code",
   "execution_count": 29,
   "metadata": {},
   "outputs": [],
   "source": [
    "# create a three group sliding function\n",
    "\n",
    "def part_2(path:Path):\n",
    "    counter = 0 \n",
    "    with open(path, \"r\") as f: \n",
    "        # reads first three lines into separate variables and adds them together\n",
    "        a,b,c = int(f.readline()),int(f.readline()),int(f.readline())\n",
    "        sum_3 = a+b+c\n",
    "    # now tries to add them together on a rolling basis\n",
    "        for line in f: \n",
    "            # takes the first three, swaps a with b. b with c and c with a new line\n",
    "            a,b,c = b,c,int(line)\n",
    "            new_sum = a+b+c\n",
    "            if new_sum > sum_3:\n",
    "                counter += 1\n",
    "            sum_3 = new_sum\n",
    "            \n",
    "    return counter"
   ]
  },
  {
   "cell_type": "code",
   "execution_count": 30,
   "metadata": {},
   "outputs": [
    {
     "name": "stdout",
     "output_type": "stream",
     "text": [
      "1589\n"
     ]
    }
   ],
   "source": [
    "print(part_2(path))"
   ]
  },
  {
   "cell_type": "code",
   "execution_count": null,
   "metadata": {},
   "outputs": [],
   "source": []
  }
 ],
 "metadata": {
  "kernelspec": {
   "display_name": "Python 3",
   "language": "python",
   "name": "python3"
  },
  "language_info": {
   "codemirror_mode": {
    "name": "ipython",
    "version": 3
   },
   "file_extension": ".py",
   "mimetype": "text/x-python",
   "name": "python",
   "nbconvert_exporter": "python",
   "pygments_lexer": "ipython3",
   "version": "3.7.3"
  }
 },
 "nbformat": 4,
 "nbformat_minor": 4
}
